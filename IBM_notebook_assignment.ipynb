{
 "cells": [
  {
   "cell_type": "markdown",
   "id": "195b48c0-08b2-46b7-b32b-37ab19dee72e",
   "metadata": {},
   "source": [
    "### Exercise 2 - Create a markdown cell with the title of the notebook. (1 pt)\n",
    "# My notebook"
   ]
  },
  {
   "cell_type": "markdown",
   "id": "420a89d3-6d1f-4b42-9c89-a7c7a89d0660",
   "metadata": {},
   "source": [
    "### Exercise 3 - Create a markdown cell for an introduction. (1 pt)\n",
    "## Introduction"
   ]
  },
  {
   "cell_type": "markdown",
   "id": "24c2894e-da7f-4dfb-9953-3b1ded8b0c5e",
   "metadata": {},
   "source": [
    "### Exercise 4 - Create a markdown cell to list data science languages. (3 pts)\n",
    "- Python\n",
    "- R\n",
    "- SQL\n",
    "- C/C++\n",
    "- Java\n",
    "- JavaScript\n",
    "- Go\n",
    "- Scala\n",
    "- Julia\n",
    "- Swift\n",
    "- MATLAB\n",
    "- SAS"
   ]
  },
  {
   "cell_type": "markdown",
   "id": "c6e32bba-adad-4981-961a-af9110b0cbc3",
   "metadata": {},
   "source": [
    "### Exercise 5 - Create a markdown cell to list data science libraries. (3 pts)\n",
    "- NumPy\n",
    "- Keras\n",
    "- Pandas\n",
    "- PyTorch\n",
    "- SciPy\n",
    "- Scikit-Learn\n",
    "- TensorFlow\n",
    "- Matplotlib\n",
    "- Seaborn\n",
    "- Theano\n",
    "- OpenCV\n",
    "- Mahotas\n",
    "- SimpleITK\n",
    "- Pillow\n",
    "- Requests\n",
    "- Beautiful Soup\n",
    "- Selenium\n",
    "- ScraPy\n",
    "- PyTest\n",
    "- PyUnit"
   ]
  },
  {
   "cell_type": "markdown",
   "id": "d195ff3a-2c24-41db-b2e8-3297f2eb0600",
   "metadata": {},
   "source": [
    "### Exercise 6 - Create a markdown cell with a table of Data Science tools. (3 pts)\n",
    "\n",
    "|Name |Language |Use |\n",
    "|:-----: |:-----: |:-----: |\n",
    "|SQL |SQL |relational datbase management |\n",
    "|Python |Python |object oriented programming |\n",
    "|Git |NA |Code management and collaborative resource tool |\n"
   ]
  },
  {
   "cell_type": "code",
   "execution_count": 1,
   "id": "08d87430-4ff8-4431-b8c7-c80b5898ec1b",
   "metadata": {},
   "outputs": [
    {
     "data": {
      "text/html": [
       "<style>\n",
       "table {float:left}\n",
       "</style>\n"
      ],
      "text/plain": [
       "<IPython.core.display.HTML object>"
      ]
     },
     "metadata": {},
     "output_type": "display_data"
    }
   ],
   "source": [
    "##floats table left\n",
    "%%html\n",
    "<style>\n",
    "table {float:left}\n",
    "</style>"
   ]
  },
  {
   "cell_type": "markdown",
   "id": "644ecf98-56c8-41bd-88d1-0ddd3ad4f83f",
   "metadata": {},
   "source": [
    "### Exercise 7 - Create a markdown cell introducing arithmetic expression examples. (1 pt\n",
    "\n",
    "\n",
    "$$ x = {-b \\pm \\sqrt{b^2-4ac} \\over 2a} $$\n",
    "$$\n",
    "\\displaystyle\\sum_{k=3}^5 k^2=3^2 + 4^2 + 5^2 =50\n",
    "$$"
   ]
  },
  {
   "cell_type": "markdown",
   "id": "b9fb35d1-0128-49a4-be9d-e85b8e5ac17a",
   "metadata": {},
   "source": [
    "### Exercise 8 - Create a code cell to multiply and add numbers.(2 pts)\n",
    "\n"
   ]
  },
  {
   "cell_type": "markdown",
   "id": "4007a03e-eb50-48e6-83e9-9b643325830f",
   "metadata": {},
   "source": [
    "$$ 6*2 = 12 $$\n",
    "$$ 6+2 = 8 $$"
   ]
  },
  {
   "cell_type": "code",
   "execution_count": 9,
   "id": "5be9567c-2e68-4707-acac-88697252f160",
   "metadata": {},
   "outputs": [
    {
     "data": {
      "text/plain": [
       "(12, 8)"
      ]
     },
     "execution_count": 9,
     "metadata": {},
     "output_type": "execute_result"
    }
   ],
   "source": [
    "6*2, 6+2"
   ]
  },
  {
   "cell_type": "markdown",
   "id": "11915500-4ea3-40c9-ac0f-535ae1b76a9f",
   "metadata": {},
   "source": [
    "### Exercise 9 - Create a code cell to convert minutes to hours. (2 pts)"
   ]
  },
  {
   "cell_type": "code",
   "execution_count": 15,
   "id": "f651951c-35c2-496c-86dc-e2555bc0ced2",
   "metadata": {},
   "outputs": [
    {
     "name": "stdout",
     "output_type": "stream",
     "text": [
      "Enter minutes\n"
     ]
    },
    {
     "name": "stdin",
     "output_type": "stream",
     "text": [
      " 120\n"
     ]
    },
    {
     "name": "stdout",
     "output_type": "stream",
     "text": [
      "2.0 Hours\n"
     ]
    }
   ],
   "source": [
    "print ( \"Enter minutes\")\n",
    "x = int(input())\n",
    "print( str(x/60)+\" Hours\" )"
   ]
  },
  {
   "cell_type": "markdown",
   "id": "85f8c360-b4aa-40af-a320-53dc71f56428",
   "metadata": {},
   "source": [
    "### Exercise 10 -Insert a markdown cell to list Objectives. (3 pts)"
   ]
  },
  {
   "cell_type": "markdown",
   "id": "68ac80ce-79aa-4a43-8337-e8d019c896f4",
   "metadata": {},
   "source": [
    "1. objectives\n",
    "2. objectives\n",
    "3. objectives\n",
    "4. objectives\n",
    "5. objectives"
   ]
  },
  {
   "cell_type": "markdown",
   "id": "cdc0dd56-560a-4582-bd9b-4dfc6e75a0a6",
   "metadata": {},
   "source": [
    "### Exercise 11 - Create a markdown cell to indicate the Author’s name. (2 pts)"
   ]
  },
  {
   "cell_type": "markdown",
   "id": "9520ef9e-3ad7-40d1-9239-246760ce862a",
   "metadata": {},
   "source": [
    "<div class=\"alert alert-block alert-info\">\n",
    "<b>Author:</b> Iain Brewster\n",
    "</div>\n"
   ]
  },
  {
   "cell_type": "markdown",
   "id": "3838dabd-26ce-4b11-bf50-e6b7ef6302d6",
   "metadata": {},
   "source": [
    "### Exercise 12 - Share your notebook through GitHub (3 pts)\n",
    "\n",
    "### Exercise 13 - Take a screenshot of the first page of the notebook. (1 pt)"
   ]
  },
  {
   "cell_type": "code",
   "execution_count": null,
   "id": "7cd29043-744c-4b86-924b-ee196cfa86bc",
   "metadata": {},
   "outputs": [],
   "source": []
  }
 ],
 "metadata": {
  "kernelspec": {
   "display_name": "Python 3 (ipykernel)",
   "language": "python",
   "name": "python3"
  },
  "language_info": {
   "codemirror_mode": {
    "name": "ipython",
    "version": 3
   },
   "file_extension": ".py",
   "mimetype": "text/x-python",
   "name": "python",
   "nbconvert_exporter": "python",
   "pygments_lexer": "ipython3",
   "version": "3.9.13"
  }
 },
 "nbformat": 4,
 "nbformat_minor": 5
}
